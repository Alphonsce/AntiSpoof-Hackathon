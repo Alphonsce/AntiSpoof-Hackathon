{
 "cells": [
  {
   "cell_type": "code",
   "execution_count": 1,
   "metadata": {},
   "outputs": [],
   "source": [
    "# import torch.multiprocessing as mp\n",
    "# from torch.utils.data.distributed import DistributedSampler\n",
    "# from torch.nn.parallel import DistributedDataParallel as DDP\n",
    "# from torch.distributed import init_process_group, destroy_process_group\n",
    "# import os\n",
    "import torch\n",
    "# import torch.nn as nn\n",
    "\n",
    "# from data_utils.preprocess import PreEmphasis\n",
    "from models.rawformer import Rawformer_L, Rawformer_S, Rawformer_SE\n",
    "# from logger import Logger\n",
    "# import wandb\n",
    "# import random\n",
    "# import torch.utils.data as data\n",
    "# import datetime\n",
    "# import numpy as np\n",
    "import config"
   ]
  },
  {
   "cell_type": "code",
   "execution_count": 2,
   "metadata": {},
   "outputs": [],
   "source": [
    "device = \"cpu\"\n",
    "sys_config, exp_config = config.SysConfig(), config.ExpConfig()"
   ]
  },
  {
   "cell_type": "code",
   "execution_count": 3,
   "metadata": {},
   "outputs": [],
   "source": [
    "ckpt_path = \"checkpoints/Rawformer-ACN-Aug/ep_3_rawboost_algo_0_allow_aug_True.pth\"\n",
    "state_dict = torch.load(ckpt_path, weights_only=True, map_location=device)\n",
    "\n",
    "new_state_dict = {key.replace(\"module.\", \"\").replace(\"se_fc\", \"se_module.fc\"): value for key, value in state_dict.items()}"
   ]
  },
  {
   "cell_type": "code",
   "execution_count": 4,
   "metadata": {},
   "outputs": [],
   "source": [
    "\n",
    "\n",
    "model = Rawformer_SE(device=device, sample_rate=exp_config.sample_rate, transformer_hidden=exp_config.transformer_hidden)\n",
    "model = model.load_state_dict(new_state_dict)"
   ]
  },
  {
   "cell_type": "code",
   "execution_count": 42,
   "metadata": {},
   "outputs": [
    {
     "name": "stdout",
     "output_type": "stream",
     "text": [
      "front_end.conv_blocks.1.se_fc.0.weight\n",
      "front_end.conv_blocks.1.se_fc.0.bias\n",
      "front_end.conv_blocks.1.se_fc.2.weight\n",
      "front_end.conv_blocks.1.se_fc.2.bias\n",
      "front_end.conv_blocks.2.se_fc.0.weight\n",
      "front_end.conv_blocks.2.se_fc.0.bias\n",
      "front_end.conv_blocks.2.se_fc.2.weight\n",
      "front_end.conv_blocks.2.se_fc.2.bias\n",
      "front_end.conv_blocks.3.se_fc.0.weight\n",
      "front_end.conv_blocks.3.se_fc.0.bias\n",
      "front_end.conv_blocks.3.se_fc.2.weight\n",
      "front_end.conv_blocks.3.se_fc.2.bias\n"
     ]
    }
   ],
   "source": [
    "for key in new_state_dict.keys():\n",
    "    if key not in model.state_dict().keys():\n",
    "        print(key)"
   ]
  },
  {
   "cell_type": "code",
   "execution_count": 3,
   "metadata": {},
   "outputs": [
    {
     "data": {
      "text/plain": [
       "(tensor([[-0.0052, -0.0027, -0.0028,  ...,  0.0028,  0.0022,  0.0040]]), 16000)"
      ]
     },
     "execution_count": 3,
     "metadata": {},
     "output_type": "execute_result"
    }
   ],
   "source": [
    "torchaudio.load(path)"
   ]
  }
 ],
 "metadata": {
  "kernelspec": {
   "display_name": "emo-flow",
   "language": "python",
   "name": "python3"
  },
  "language_info": {
   "codemirror_mode": {
    "name": "ipython",
    "version": 3
   },
   "file_extension": ".py",
   "mimetype": "text/x-python",
   "name": "python",
   "nbconvert_exporter": "python",
   "pygments_lexer": "ipython3",
   "version": "3.10.14"
  }
 },
 "nbformat": 4,
 "nbformat_minor": 2
}
