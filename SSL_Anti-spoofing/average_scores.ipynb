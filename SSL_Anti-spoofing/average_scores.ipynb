{
 "cells": [
  {
   "cell_type": "code",
   "execution_count": 1,
   "metadata": {},
   "outputs": [],
   "source": [
    "import pandas as pd\n",
    "import numpy as np"
   ]
  },
  {
   "cell_type": "code",
   "execution_count": 2,
   "metadata": {},
   "outputs": [],
   "source": [
    "paths = [\n",
    "    \"wav2vec_no_aug_low_lr_3_epochs_la.csv\",\n",
    "    \"wav2vec_no_aug_low_lr_5_epochs_la.csv\"\n",
    "]\n",
    "\n",
    "scores = [pd.read_csv(path)[\"score\"] for path in paths]\n",
    "\n",
    "weights = np.array([1, 1])\n",
    "weights = weights / np.sum(weights)"
   ]
  },
  {
   "cell_type": "code",
   "execution_count": 3,
   "metadata": {},
   "outputs": [],
   "source": [
    "df = pd.read_csv(paths[0])\n",
    "\n",
    "df[\"score\"] = np.dot(weights, scores)"
   ]
  },
  {
   "cell_type": "code",
   "execution_count": 4,
   "metadata": {},
   "outputs": [],
   "source": [
    "df.to_csv(\"wav2vec_low_lr_no_aug_3_and_11_eps_avg.csv\", index=False)"
   ]
  }
 ],
 "metadata": {
  "kernelspec": {
   "display_name": "emo-flow",
   "language": "python",
   "name": "python3"
  },
  "language_info": {
   "codemirror_mode": {
    "name": "ipython",
    "version": 3
   },
   "file_extension": ".py",
   "mimetype": "text/x-python",
   "name": "python",
   "nbconvert_exporter": "python",
   "pygments_lexer": "ipython3",
   "version": "3.10.14"
  }
 },
 "nbformat": 4,
 "nbformat_minor": 2
}
